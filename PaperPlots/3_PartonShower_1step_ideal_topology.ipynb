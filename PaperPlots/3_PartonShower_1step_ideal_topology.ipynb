{
 "cells": [
  {
   "cell_type": "markdown",
   "metadata": {},
   "source": [
    "# Test of PS_Fullmodel_1step by LBNL (Slimming level 1)"
   ]
  },
  {
   "cell_type": "markdown",
   "metadata": {},
   "source": [
    "Setteing of circuits"
   ]
  },
  {
   "cell_type": "code",
   "execution_count": 2,
   "metadata": {},
   "outputs": [],
   "source": [
    "import warnings\n",
    "warnings.simplefilter('ignore')"
   ]
  },
  {
   "cell_type": "code",
   "execution_count": 3,
   "metadata": {},
   "outputs": [],
   "source": [
    "from sample_algorithm.onestepSim_LBNL import runQuantum\n",
    "circuit_LBNL1 = runQuantum(gLR=1,dophisplit=1)"
   ]
  },
  {
   "cell_type": "code",
   "execution_count": 37,
   "metadata": {},
   "outputs": [],
   "source": [
    "from transpiler.optimization import slim\n",
    "example1 = slim.circuit_optimization( circuit=circuit_LBNL1, slim_level=1, work_register = 'w', cut='high')\n",
    "circuit_LBNL1_op = example1.slim()\n",
    "circuit_LBNL1 = runQuantum(gLR=1,dophisplit=1)"
   ]
  },
  {
   "cell_type": "code",
   "execution_count": 5,
   "metadata": {},
   "outputs": [],
   "source": [
    "from qiskit import(\n",
    "  QuantumCircuit,\n",
    "  execute,\n",
    "  Aer)\n",
    "from qiskit.visualization import plot_histogram"
   ]
  },
  {
   "cell_type": "code",
   "execution_count": 6,
   "metadata": {},
   "outputs": [],
   "source": [
    "from qiskit import *\n",
    "def statevector(circ):\n",
    "    circ.remove_final_measurements()\n",
    "    simulator = Aer.get_backend('statevector_simulator')\n",
    "    job = execute(circ, simulator)\n",
    "    result = job.result()\n",
    "    statevector = result.get_statevector(circ)\n",
    "    return qiskit.quantum_info.Statevector(statevector).probabilities_dict()"
   ]
  },
  {
   "cell_type": "markdown",
   "metadata": {},
   "source": [
    "## New Optimizer vs Qiskit"
   ]
  },
  {
   "cell_type": "markdown",
   "metadata": {},
   "source": [
    "### Before slimming"
   ]
  },
  {
   "cell_type": "code",
   "execution_count": 7,
   "metadata": {},
   "outputs": [
    {
     "name": "stdout",
     "output_type": "stream",
     "text": [
      "46 , 66\n",
      "Gate counts: OrderedDict([('ccx', 28), ('x', 19), ('cu3', 7), ('measure', 6), ('cx', 5), ('barrier', 1)])\n"
     ]
    }
   ],
   "source": [
    "print(circuit_LBNL1.depth(), ',', circuit_LBNL1.__len__())\n",
    "print('Gate counts:', circuit_LBNL1.count_ops())"
   ]
  },
  {
   "cell_type": "code",
   "execution_count": 8,
   "metadata": {},
   "outputs": [
    {
     "name": "stdout",
     "output_type": "stream",
     "text": [
      "309 , 493\n",
      "Gate counts: OrderedDict([('cx', 187), ('t', 112), ('tdg', 84), ('h', 56), ('u3', 33), ('u1', 14), ('measure', 6), ('barrier', 1)])\n"
     ]
    }
   ],
   "source": [
    "circuit_LBNL1_basis = circuit_LBNL1.decompose()\n",
    "print(circuit_LBNL1_basis.depth(), ',', circuit_LBNL1_basis.__len__())\n",
    "print('Gate counts:', circuit_LBNL1_basis.count_ops())"
   ]
  },
  {
   "cell_type": "markdown",
   "metadata": {},
   "source": [
    "### After slimming"
   ]
  },
  {
   "cell_type": "code",
   "execution_count": 28,
   "metadata": {},
   "outputs": [
    {
     "name": "stdout",
     "output_type": "stream",
     "text": [
      "43 , 53\n",
      "Gate counts: OrderedDict([('cx', 29), ('x', 7), ('measure', 6), ('cry', 4), ('ccx', 4), ('ry', 2), ('barrier', 1)])\n"
     ]
    }
   ],
   "source": [
    "print(circuit_LBNL1_op.depth(), ',', circuit_LBNL1_op.__len__())\n",
    "print('Gate counts:', circuit_LBNL1_op.count_ops())"
   ]
  },
  {
   "cell_type": "code",
   "execution_count": 29,
   "metadata": {},
   "outputs": [
    {
     "name": "stdout",
     "output_type": "stream",
     "text": [
      "83 , 121\n",
      "Gate counts: OrderedDict([('cx', 61), ('t', 16), ('u3', 15), ('tdg', 12), ('h', 8), ('measure', 6), ('r', 2), ('barrier', 1)])\n"
     ]
    }
   ],
   "source": [
    "circuit_LBNL1_op_basis = circuit_LBNL1_op.decompose()\n",
    "print(circuit_LBNL1_op_basis.depth(), ',', circuit_LBNL1_op_basis.__len__())\n",
    "print('Gate counts:', circuit_LBNL1_op_basis.count_ops())"
   ]
  },
  {
   "cell_type": "code",
   "execution_count": 30,
   "metadata": {},
   "outputs": [
    {
     "name": "stdout",
     "output_type": "stream",
     "text": [
      "{'000 100': 11724, '000 101': 10651, '001 100': 51197, '001 101': 8348}\n"
     ]
    },
    {
     "data": {
      "image/png": "[encoded data removed]",
      "text/plain": [
       "<Figure size 504x360 with 1 Axes>"
      ]
     },
     "execution_count": 30,
     "metadata": {},
     "output_type": "execute_result"
    }
   ],
   "source": [
    "circuit=circuit_LBNL1_op\n",
    "simulator = Aer.get_backend('qasm_simulator')\n",
    "job = execute(circuit, simulator, shots=81920)\n",
    "result = job.result()\n",
    "counts = result.get_counts(circuit)\n",
    "\n",
    "print(counts)\n",
    "plot_histogram(counts,number_to_keep=None)"
   ]
  },
  {
   "cell_type": "code",
   "execution_count": 31,
   "metadata": {},
   "outputs": [
    {
     "data": {
      "text/plain": [
       "{'0000000000100': 0.14101480996166701,\n",
       " '0000000000101': 0.13079599534594055,\n",
       " '0000001001100': 2.1148834074021317e-33,\n",
       " '0000001001101': 1.9616257355306923e-33,\n",
       " '0000010000100': 5.848127609975192e-32,\n",
       " '0000010000101': 1.27484393387346e-32,\n",
       " '0000011001100': 0.6271510543561875,\n",
       " '0000011001101': 0.10103814033620451}"
      ]
     },
     "execution_count": 31,
     "metadata": {},
     "output_type": "execute_result"
    }
   ],
   "source": [
    "statevector(circuit_LBNL1_op)"
   ]
  },
  {
   "cell_type": "code",
   "execution_count": 32,
   "metadata": {},
   "outputs": [
    {
     "name": "stdout",
     "output_type": "stream",
     "text": [
      "11551.933232059762\n",
      "10714.80793873945\n",
      "51376.21437285892\n",
      "8277.044456341871\n"
     ]
    }
   ],
   "source": [
    "print(81920*(0.14101480996166701))\n",
    "print(81920*(0.13079599534594055))\n",
    "print(81920*0.627151054356188)\n",
    "print(81920*0.10103814033620448)"
   ]
  },
  {
   "cell_type": "markdown",
   "metadata": {},
   "source": [
    "## New Optimizer vs tket"
   ]
  },
  {
   "cell_type": "code",
   "execution_count": 14,
   "metadata": {},
   "outputs": [],
   "source": [
    "from pytket.qiskit import qiskit_to_tk, tk_to_qiskit\n",
    "from pytket.passes import (RemoveRedundancies, CommuteThroughMultis, CliffordSimp, RebaseIBM, O2Pass,\n",
    "                           FullPeepholeOptimise, EulerAngleReduction, USquashIBM, SynthesiseIBM, PauliSimp,\n",
    "                           GuidedPauliSimp, OptimisePhaseGadgets, SquashHQS, FlattenRegisters, KAKDecomposition,\n",
    "                           RepeatPass, SequencePass)\n",
    "from pytket import OpType"
   ]
  },
  {
   "cell_type": "markdown",
   "metadata": {},
   "source": [
    "### Before slimming"
   ]
  },
  {
   "cell_type": "code",
   "execution_count": 15,
   "metadata": {},
   "outputs": [],
   "source": [
    "def passes2(circ_tk):\n",
    "    pass_list=[EulerAngleReduction(OpType.Rz, OpType.Rx),\n",
    "    RemoveRedundancies(),\n",
    "    GuidedPauliSimp(),\n",
    "    SquashHQS(),\n",
    "    FlattenRegisters(),\n",
    "    OptimisePhaseGadgets(),\n",
    "    KAKDecomposition(),\n",
    "    USquashIBM(),\n",
    "    CliffordSimp(),\n",
    "    FullPeepholeOptimise()]\n",
    "    \n",
    "    RebaseIBM().apply(circ_tk)\n",
    "    CommuteThroughMultis().apply(circ_tk)\n",
    "    \n",
    "    circ_tk_qiskit_copy = tk_to_qiskit(circ_tk)\n",
    "    circ_tk_copy = qiskit_to_tk(circ_tk_qiskit_copy)\n",
    "    \n",
    "    best_pass = RebaseIBM()\n",
    "    mini = tk_to_qiskit(circ_tk).__len__()\n",
    "    for a_pass in pass_list:\n",
    "        #print(tk_to_qiskit(circ_tk_copy).__len__())\n",
    "        a_pass.apply(circ_tk_copy)\n",
    "        if circ_tk_copy.n_gates < mini :\n",
    "            mini = circ_tk_copy.n_gates\n",
    "            best_pass = a_pass\n",
    "        circ_tk_qiskit_copy = tk_to_qiskit(circ_tk)\n",
    "        circ_tk_copy = qiskit_to_tk(circ_tk_qiskit_copy)\n",
    "        \n",
    "    best_pass.apply(circ_tk)\n",
    "        \n",
    "    return circ_tk"
   ]
  },
  {
   "cell_type": "code",
   "execution_count": 16,
   "metadata": {},
   "outputs": [],
   "source": [
    "circ = circuit_LBNL1\n",
    "mystate_reduct_tk = qiskit_to_tk(circ)\n",
    "RebaseIBM().apply(mystate_reduct_tk)\n",
    "\n",
    "while tk_to_qiskit(mystate_reduct_tk).__len__() != tk_to_qiskit(passes2(mystate_reduct_tk)).__len__() :\n",
    "    mystate_reduct_tk = passes2(mystate_reduct_tk)\n",
    "\n",
    "mystate_reduct_qiskit=tk_to_qiskit(mystate_reduct_tk)"
   ]
  },
  {
   "cell_type": "code",
   "execution_count": 17,
   "metadata": {},
   "outputs": [
    {
     "name": "stdout",
     "output_type": "stream",
     "text": [
      "279 , 367\n",
      "Gate counts: OrderedDict([('cx', 185), ('u1', 108), ('u3', 67), ('measure', 6), ('barrier', 1)])\n"
     ]
    }
   ],
   "source": [
    "print(mystate_reduct_qiskit.depth(), ',', mystate_reduct_qiskit.__len__())\n",
    "print('Gate counts:', mystate_reduct_qiskit.count_ops())"
   ]
  },
  {
   "cell_type": "code",
   "execution_count": 18,
   "metadata": {},
   "outputs": [
    {
     "name": "stdout",
     "output_type": "stream",
     "text": [
      "{'000 100': 11574, '000 101': 10592, '001 100': 51395, '001 101': 8359}\n"
     ]
    },
    {
     "data": {
      "image/png": "[encoded data removed]",
      "text/plain": [
       "<Figure size 504x360 with 1 Axes>"
      ]
     },
     "execution_count": 18,
     "metadata": {},
     "output_type": "execute_result"
    }
   ],
   "source": [
    "circuit=mystate_reduct_qiskit\n",
    "simulator = Aer.get_backend('qasm_simulator')\n",
    "job = execute(circuit, simulator, shots=81920)\n",
    "result = job.result()\n",
    "counts = result.get_counts(circuit)\n",
    "\n",
    "print(counts)\n",
    "plot_histogram(counts,number_to_keep=None)"
   ]
  },
  {
   "cell_type": "code",
   "execution_count": 19,
   "metadata": {},
   "outputs": [
    {
     "name": "stdout",
     "output_type": "stream",
     "text": [
      "000000001000000 0.14101480996166776\n",
      "000000001010000 0.1307959953459411\n",
      "000000011001100 0.6271510543561895\n",
      "000000011011100 0.1010381403362049\n"
     ]
    }
   ],
   "source": [
    "for key,value in statevector(mystate_reduct_qiskit).items():\n",
    "    if value > 0.0000001:\n",
    "        print(key,value)"
   ]
  },
  {
   "cell_type": "code",
   "execution_count": 20,
   "metadata": {},
   "outputs": [
    {
     "name": "stdout",
     "output_type": "stream",
     "text": [
      "11551.933232059822\n",
      "10714.807938739496\n",
      "51376.21437285904\n",
      "8277.044456341904\n"
     ]
    }
   ],
   "source": [
    "print(81920*(0.14101480996166776))\n",
    "print(81920*(0.1307959953459411))\n",
    "print(81920*0.6271510543561895)\n",
    "print(81920*0.1010381403362049)"
   ]
  },
  {
   "cell_type": "markdown",
   "metadata": {},
   "source": [
    "### After slimming"
   ]
  },
  {
   "cell_type": "code",
   "execution_count": 38,
   "metadata": {},
   "outputs": [],
   "source": [
    "circ = circuit_LBNL1_op\n",
    "mystate_reduct_tk = qiskit_to_tk(circ)\n",
    "RebaseIBM().apply(mystate_reduct_tk)\n",
    "\n",
    "while tk_to_qiskit(mystate_reduct_tk).__len__() != tk_to_qiskit(passes2(mystate_reduct_tk)).__len__() :\n",
    "    mystate_reduct_tk = passes2(mystate_reduct_tk)\n",
    "\n",
    "mystate_reduct_qiskit_op=tk_to_qiskit(mystate_reduct_tk)"
   ]
  },
  {
   "cell_type": "code",
   "execution_count": 40,
   "metadata": {},
   "outputs": [
    {
     "name": "stdout",
     "output_type": "stream",
     "text": [
      "68 , 95\n",
      "Gate counts: OrderedDict([('cx', 50), ('u3', 22), ('u1', 16), ('measure', 6), ('barrier', 1)])\n"
     ]
    }
   ],
   "source": [
    "print(mystate_reduct_qiskit_op.depth(), ',', mystate_reduct_qiskit_op.__len__())\n",
    "print('Gate counts:', mystate_reduct_qiskit_op.count_ops())"
   ]
  },
  {
   "cell_type": "code",
   "execution_count": 41,
   "metadata": {},
   "outputs": [
    {
     "name": "stdout",
     "output_type": "stream",
     "text": [
      "{'000 100': 11372, '000 101': 10772, '001 100': 51456, '001 101': 8320}\n"
     ]
    },
    {
     "data": {
      "image/png": "[encoded data removed]",
      "text/plain": [
       "<Figure size 504x360 with 1 Axes>"
      ]
     },
     "execution_count": 41,
     "metadata": {},
     "output_type": "execute_result"
    }
   ],
   "source": [
    "circuit=mystate_reduct_qiskit_op\n",
    "simulator = Aer.get_backend('qasm_simulator')\n",
    "job = execute(circuit, simulator, shots=81920)\n",
    "result = job.result()\n",
    "counts = result.get_counts(circuit)\n",
    "\n",
    "print(counts)\n",
    "plot_histogram(counts,number_to_keep=None)"
   ]
  },
  {
   "cell_type": "code",
   "execution_count": 42,
   "metadata": {},
   "outputs": [
    {
     "name": "stdout",
     "output_type": "stream",
     "text": [
      "0000001000000 0.1410148099616668\n",
      "0000001010000 0.13079599534594022\n",
      "0000011001100 0.6271510543561889\n",
      "0000011011100 0.10103814033620487\n"
     ]
    }
   ],
   "source": [
    "for key,value in statevector(mystate_reduct_qiskit_op).items():\n",
    "    if value > 0.0000001:\n",
    "        print(key,value)"
   ]
  },
  {
   "cell_type": "code",
   "execution_count": 43,
   "metadata": {},
   "outputs": [
    {
     "name": "stdout",
     "output_type": "stream",
     "text": [
      "11551.933232059744\n",
      "10714.807938739423\n",
      "51376.214372858994\n",
      "8277.044456341902\n"
     ]
    }
   ],
   "source": [
    "print(81920*(0.1410148099616668))\n",
    "print(81920*(0.13079599534594022))\n",
    "print(81920*0.6271510543561889)\n",
    "print(81920*0.10103814033620487)"
   ]
  },
  {
   "cell_type": "markdown",
   "metadata": {},
   "source": [
    "# Conclusion\n",
    "・qiskit+my_optimizer > qiskit\n",
    "<br>\n",
    "・tket+my_optimizer > tket"
   ]
  },
  {
   "cell_type": "code",
   "execution_count": 17,
   "metadata": {},
   "outputs": [],
   "source": [
    "circ_list = [circuit_LBNL1_basis, circuit_LBNL1_op_basis, mystate_reduct_qiskit, mystate_reduct_qiskit_op]"
   ]
  },
  {
   "cell_type": "code",
   "execution_count": 18,
   "metadata": {},
   "outputs": [],
   "source": [
    "depth_list = [circuit_LBNL1_basis.depth(), circuit_LBNL1_op_basis.depth(), mystate_reduct_qiskit.depth(),\n",
    "             mystate_reduct_qiskit_op.depth()]"
   ]
  },
  {
   "cell_type": "code",
   "execution_count": 19,
   "metadata": {},
   "outputs": [
    {
     "name": "stdout",
     "output_type": "stream",
     "text": [
      "[309, 486, 187, 299]\n",
      "[83, 114, 61, 53]\n",
      "[279, 360, 185, 175]\n",
      "[68, 88, 50, 38]\n"
     ]
    },
    {
     "data": {
      "image/png": "[encoded data removed]",
      "text/plain": [
       "<Figure size 432x288 with 1 Axes>"
      ]
     },
     "metadata": {
      "needs_background": "light"
     },
     "output_type": "display_data"
    }
   ],
   "source": [
    "import matplotlib.pyplot as plt\n",
    "import numpy as np\n",
    "\n",
    "n = 4\n",
    "index = np.arange(n)\n",
    "fig, ax = plt.subplots()\n",
    "bar_width = 0.1\n",
    "alpha = 0.8\n",
    "\n",
    "\n",
    "name_list=['Original','My_optimizer','tket','tket+My_optimizer']\n",
    "\n",
    "for i,circ in enumerate(circ_list):\n",
    "    native_gate_num =[depth_list[i],0,0,0]\n",
    "    for key,value in circ.count_ops().items():\n",
    "        if key == 'cx':\n",
    "            native_gate_num[2] += value\n",
    "            native_gate_num[1] += value\n",
    "        elif key != 'barrier' and key != 'measure':\n",
    "            native_gate_num[3] += value\n",
    "            native_gate_num[1] += value\n",
    "            \n",
    "    plt.bar(index + i*bar_width, native_gate_num, bar_width, alpha=alpha ,label=name_list[i])\n",
    "    \n",
    "    print(native_gate_num)\n",
    "\n",
    "plt.ylim([0,500])\n",
    "plt.title('Ideal Topology') # グラフのタイトル plt.xlabel('x')\n",
    "plt.ylabel('Counts')\n",
    "plt.xticks(index + 2.5*bar_width, ('Depth','Number of all gates','CX', 'U1,U2,U3'))\n",
    "plt.grid(axis = 'y')\n",
    "plt.legend(bbox_to_anchor=(1.05, 1), loc='upper left', borderaxespad=0, fontsize=10)\n",
    "plt.show()"
   ]
  },
  {
   "cell_type": "code",
   "execution_count": null,
   "metadata": {},
   "outputs": [],
   "source": []
  }
 ],
 "metadata": {
  "kernelspec": {
   "display_name": "Python 3",
   "language": "python",
   "name": "python3"
  },
  "language_info": {
   "codemirror_mode": {
    "name": "ipython",
    "version": 3
   },
   "file_extension": ".py",
   "mimetype": "text/x-python",
   "name": "python",
   "nbconvert_exporter": "python",
   "pygments_lexer": "ipython3",
   "version": "3.8.1"
  }
 },
 "nbformat": 4,
 "nbformat_minor": 4
}
