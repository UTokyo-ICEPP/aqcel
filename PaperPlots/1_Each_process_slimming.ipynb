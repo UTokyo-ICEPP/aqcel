{
 "cells": [
  {
   "cell_type": "markdown",
   "metadata": {},
   "source": [
    "# Each Process (Removing qubit controls and adjacent gates pairs)\n",
    "\n",
    "In slimming process, first unnecessary qubit controls are removed and then adjacent gates pairs are removed. This is the sub-routine, so this routine is repeated until there are no changes in the circuit by slimming."
   ]
  },
  {
   "cell_type": "code",
   "execution_count": 1,
   "metadata": {},
   "outputs": [],
   "source": [
    "import numpy as np\n",
    "from qiskit import *\n",
    "from qiskit.converters import circuit_to_dag, dag_to_circuit\n",
    "from qiskit.dagcircuit import DAGCircuit\n",
    "from qiskit.circuit.library.standard_gates import CXGate, CCXGate, XGate, CRYGate, RYGate, MCXGate, U3Gate, CU3Gate\n",
    "import copy\n",
    "from qiskit.circuit import Qubit\n",
    "from qiskit.tools.monitor import job_monitor\n",
    "#from operator import length_hint\n",
    "\n",
    "# Import general libraries (needed for functions)\n",
    "import numpy as np\n",
    "import time\n",
    "\n",
    "class circuit_optimization():\n",
    "    \n",
    "    def __init__(self, circuit, slim_level, cut, work_register='None'):\n",
    "        self.circuit = circuit\n",
    "        self.slim_level = slim_level\n",
    "        self.dag = circuit_to_dag(self.circuit)\n",
    "        self.work_register = work_register\n",
    "        self.cut = cut\n",
    "    \n",
    "    def slim(self):\n",
    "        t1 = time.time()\n",
    "        \n",
    "        noU3_dag   = self.u3_transfer_ry(self.dag)\n",
    "        t2 = time.time()\n",
    "        \n",
    "        delete_dag = self.delete(noU3_dag)\n",
    "        while delete_dag != self.delete(delete_dag):\n",
    "            delete_dag = self.delete(delete_dag)\n",
    "        t3 = time.time()\n",
    "        print('delete1 time:',t3-t2)\n",
    "        \n",
    "        basis_dag  = self.basis(delete_dag)\n",
    "        t4 = time.time()\n",
    "        print('basis time:',t4-t3)\n",
    "        \n",
    "        delete_dag = self.delete(basis_dag)\n",
    "        while delete_dag != self.delete(delete_dag):\n",
    "            delete_dag = self.delete(delete_dag)\n",
    "        t5 = time.time()\n",
    "        print('delete2 time:',t5-t4)\n",
    "        \n",
    "        circuit = dag_to_circuit(delete_dag)\n",
    "        t6 = time.time()\n",
    "        \n",
    "        circuit = self.delete_qubit(circuit)\n",
    "        t7 = time.time()\n",
    "        print('delete qubit time:',t7-t6)\n",
    "        \n",
    "        print('all time:',t7-t1)\n",
    "        \n",
    "        return circuit\n",
    "\n",
    "    def u3_transfer_ry(self,dag):\n",
    "        for x in range(len(dag.op_nodes())):\n",
    "            if dag.op_nodes()[x].name == 'u3':\n",
    "                if (dag.op_nodes()[x].op.params[1]==0) & (dag.op_nodes()[x].op.params[2]==0):\n",
    "                    theta=dag.op_nodes()[x].op.params[0]\n",
    "                    self.u3_to_ry(dag,theta)\n",
    "                    \n",
    "            if dag.op_nodes()[x].name == 'cu3':\n",
    "                if (dag.op_nodes()[x].op.params[1]==0) & (dag.op_nodes()[x].op.params[2]==0):\n",
    "                    theta=dag.op_nodes()[x].op.params[0]\n",
    "                    self.cu3_to_cry(dag,theta)             \n",
    "        return dag\n",
    "\n",
    "    def delete(self,dag):\n",
    "        len_dag=len(dag.op_nodes())\n",
    "        delete_list=[]\n",
    "        i=0\n",
    "        for x in range(len_dag-1): # target gate judged whether it can be removed or not\n",
    "            if x-i>0:\n",
    "                x=x-i\n",
    "            else:\n",
    "                x=0\n",
    "            if dag.op_nodes()[x].name != 'barrier': #barrier is ignored\n",
    "                for z in range(len_dag-x-1): #compared gate with target gate\n",
    "                    for a in range(len(dag.op_nodes()[x].qargs)):\n",
    "                        for b in range(len(dag.op_nodes()[x+z+1].qargs)):\n",
    "                            if (dag.op_nodes()[x].qargs[-1]==dag.op_nodes()[x+z+1].qargs[b]) or (dag.op_nodes()[x].qargs[a]==dag.op_nodes()[x+z+1].qargs[-1]): #find the nearest gate that share a same qubit which is a target qubit\n",
    "                                if (dag.op_nodes()[x].name == 'cry') or (dag.op_nodes()[x].name == 'ry'): \n",
    "                                    if (dag.op_nodes()[x].name==dag.op_nodes()[x+z+1].name) & (dag.op_nodes()[x].qargs==dag.op_nodes()[x+z+1].qargs):\n",
    "                                        if dag.op_nodes()[x].op.params[0] == -(dag.op_nodes()[x+z+1].op.params[0]):\n",
    "                                            dag.remove_op_node(dag.op_nodes()[x])\n",
    "                                            dag.remove_op_node(dag.op_nodes()[x+z])\n",
    "                                            len_dag=len_dag-2\n",
    "                                            i+=2\n",
    "                                        else:\n",
    "                                            dag.op_nodes()[x+z+1].op.params[0] = dag.op_nodes()[x+z+1].op.params[0]+dag.op_nodes()[x].op.params[0]\n",
    "                                            dag.remove_op_node(dag.op_nodes()[x])\n",
    "                                            len_dag=len_dag-1\n",
    "                                            i+=1\n",
    "                                elif (dag.op_nodes()[x].name==dag.op_nodes()[x+z+1].name) & (dag.op_nodes()[x].qargs==dag.op_nodes()[x+z+1].qargs):\n",
    "                                        dag.remove_op_node(dag.op_nodes()[x])\n",
    "                                        dag.remove_op_node(dag.op_nodes()[x+z])\n",
    "                                        len_dag=len_dag-2\n",
    "                                        i+=2\n",
    "                                break   \n",
    "                        else:\n",
    "                            continue\n",
    "                        break\n",
    "                    else:\n",
    "                        continue\n",
    "                    break\n",
    "\n",
    "        return dag\n",
    "  \n",
    "    def basis(self,dag):\n",
    "        node_list=[]\n",
    "        remove_list=[]\n",
    "        ccx_counter=0\n",
    "        cx_counter =0\n",
    "        cry_counter=0\n",
    "        basis_info=[[0]*dag.num_qubits()]   # Indexes in this list matches indexes of qubits in the circuit\n",
    "\n",
    "        \n",
    "        barrier_count=0\n",
    "        for x in range(len(dag.op_nodes())):\n",
    "            \n",
    "            if dag.op_nodes()[x].name == 'barrier':\n",
    "                barrier_count+=1\n",
    "                \n",
    "            if barrier_count % 2 == 0: # Remove qubit controls except recurring gates\n",
    "\n",
    "                fig_list=[1] # This list includes the information of indexes of controlled qubits and target qubits. First \"1\" is nothing. Later I will remove)\n",
    "\n",
    "                for a in dag.op_nodes()[x].qargs:\n",
    "                    for n in range(self.circuit.num_qubits):\n",
    "                        if a == self.circuit.qubits[n]:\n",
    "                            fig_list.append(n)\n",
    "\n",
    "                bit_state={} # List of used computational bases on the controlled qubits\n",
    "                for basis in basis_info:\n",
    "                    bit_state.setdefault(tuple([basis[fig_list[i+1]] for i in range(len(fig_list)-2)]),1)\n",
    "\n",
    "                # Remove unnecessary qubit controls\n",
    "                if dag.op_nodes()[x].name == 'cx':\n",
    "                    if (((1,) in bit_state) == True) & (((0,) in bit_state) == False):\n",
    "                        self.cx_to_x(cx_counter,dag)\n",
    "                        cx_counter=cx_counter-1\n",
    "                    elif ((1,) in bit_state) == False:\n",
    "                        remove_list.append(x)\n",
    "                    cx_counter+=1\n",
    "\n",
    "                elif dag.op_nodes()[x].name == 'ccx':\n",
    "                    if ((1,1) in bit_state) == True:\n",
    "                        if len(bit_state) == 1:\n",
    "                            self.ccx_to_x(ccx_counter,dag)\n",
    "                            ccx_counter=ccx_counter-1\n",
    "                        elif ((0,1) in bit_state) == False:\n",
    "                            self.ccx_to_cx(ccx_counter,dag,1)\n",
    "                            ccx_counter=ccx_counter-1\n",
    "                            cx_counter+=1\n",
    "                        elif ((1,0) in bit_state) == False:\n",
    "                            self.ccx_to_cx(ccx_counter,dag,0)\n",
    "                            ccx_counter=ccx_counter-1\n",
    "                            cx_counter+=1                  \n",
    "                    else:\n",
    "                        remove_list.append(x)\n",
    "                    ccx_counter+=1\n",
    "\n",
    "                elif dag.op_nodes()[x].name == 'cry':\n",
    "                    if (((1,) in bit_state) == True) & (((0,) in bit_state) == False):\n",
    "                        self.cry_to_ry(cry_counter, dag, dag.op_nodes()[x].op.params[0])\n",
    "                        cry_counter=cry_counter-1\n",
    "                    elif ((1,) in bit_state) == False:\n",
    "                        remove_list.append(x)\n",
    "                    cry_counter+=1\n",
    "            \n",
    "            if barrier_count % 2 != 0:\n",
    "                if dag.op_nodes()[x].name == 'cx':\n",
    "                    cx_counter+=1\n",
    "                elif dag.op_nodes()[x].name == 'ccx':\n",
    "                    ccx_counter+=1\n",
    "                elif dag.op_nodes()[x].name == 'cry':\n",
    "                    cry_counter+=1\n",
    "                \n",
    "            \n",
    "            # Identify used computational bases list\n",
    "            fig_list=[1]\n",
    "            \n",
    "            for a in dag.op_nodes()[x].qargs:\n",
    "                for n in range(self.circuit.num_qubits):\n",
    "                    if a == self.circuit.qubits[n]:\n",
    "                        fig_list.append(n)\n",
    "\n",
    "            new_basis=[]\n",
    "            \n",
    "            for basis in basis_info:\n",
    "\n",
    "                if dag.op_nodes()[x].name == 'x':\n",
    "                    basis[fig_list[1]]=int(not basis[fig_list[1]])\n",
    "                \n",
    "                elif (dag.op_nodes()[x].name == 'cx') or (dag.op_nodes()[x].name == 'ccx'):\n",
    "                    if [basis[fig_list[i+1]] for i in range(len(fig_list)-2)] == [1]*(len(fig_list)-2):\n",
    "                        basis[fig_list[-1]]=int(not basis[fig_list[-1]])\n",
    "                    elif basis[fig_list[-1]] == 1:\n",
    "                        basis[fig_list[-1]]=1\n",
    "                    else:\n",
    "                        basis[fig_list[-1]]=0\n",
    "\n",
    "                elif (dag.op_nodes()[x].name == 'h') or (dag.op_nodes()[x].name == 'ry'):\n",
    "                    basis2=copy.copy(basis)\n",
    "                    basis2[fig_list[1]]=int(not basis[fig_list[1]])\n",
    "                    new_basis.append(basis2)\n",
    "                    \n",
    "                elif dag.op_nodes()[x].name == 'cry':\n",
    "                    if basis[fig_list[1]] == 1:\n",
    "                        basis2=copy.copy(basis)\n",
    "                        basis2[fig_list[2]]=int(not basis[fig_list[2]])\n",
    "                        new_basis.append(basis2)\n",
    "                    elif basis[fig_list[2]] == 1:\n",
    "                        basis[fig_list[2]]=1\n",
    "                    else:\n",
    "                        basis[fig_list[2]]=0\n",
    "\n",
    "            \n",
    "            for basis in new_basis:\n",
    "                basis_info.append(basis)    \n",
    "            \n",
    "            basis_info = self.get_unique_list(basis_info)\n",
    "\n",
    "        i=0\n",
    "        for x in remove_list:\n",
    "            dag.remove_op_node(dag.op_nodes()[x-i])\n",
    "            i=i+1\n",
    "            \n",
    "        return dag\n",
    "\n",
    "    # Remove unused qubits\n",
    "    def delete_qubit(self,circ):\n",
    "    \n",
    "        for _ in range(circ.num_qubits):\n",
    "            \n",
    "            c_register_list={}\n",
    "            for clbit in circ.clbits:\n",
    "                c_register_list.setdefault(clbit.register,1)\n",
    "                \n",
    "            new_c_list=[]\n",
    "            for key in c_register_list:\n",
    "                new_c_list.append(key)\n",
    "            \n",
    "            register_list={}\n",
    "            for qubit in circ.qubits:\n",
    "                register_list.setdefault(qubit.register,1)\n",
    "\n",
    "            qubit_list={}\n",
    "            for gate in circ:\n",
    "                if gate[0].name != 'barrier':\n",
    "                    for qubit in gate[1]:\n",
    "                        qubit_list.setdefault(qubit,1)\n",
    "\n",
    "            for qubit in circ.qubits:\n",
    "                if (qubit in qubit_list) == False:\n",
    "                    delete_index = qubit.index\n",
    "                    delete_register = qubit.register\n",
    "\n",
    "                    if delete_register in register_list:\n",
    "                        register_list.pop(delete_register)\n",
    "\n",
    "                    if qubit.register.size > 1:\n",
    "                        new_register = QuantumRegister(qubit.register.size-1, qubit.register.name)\n",
    "                        register_list.setdefault(new_register,1)\n",
    "\n",
    "                    gate_list=[]\n",
    "                    for gate in circ:\n",
    "                        gate_list.append(list(gate))\n",
    "                        \n",
    "                    for gate in gate_list:\n",
    "                        if gate[0].name == 'barrier':\n",
    "                            if len(gate[1])==1:\n",
    "                                if (gate[1][x].register == delete_register) & (gate[1][x].index == delete_index):\n",
    "                                        gate_list.pop(gate_list.index(gate))\n",
    "                            if len(gate[1])>1:\n",
    "                                b_qubit_list=[]\n",
    "                                for qubit in gate[1]:\n",
    "                                    if qubit != Qubit(delete_register, delete_index):\n",
    "                                        b_qubit_list.append(qubit)\n",
    "                                gate[1] = b_qubit_list\n",
    "\n",
    "                    for gate in gate_list:\n",
    "                        for x in range(len(gate[1])):\n",
    "                            if gate[1][x].register == delete_register:\n",
    "                                if gate[1][x].index < delete_index:\n",
    "                                    gate[1][x]=Qubit(new_register, gate[1][x].index)\n",
    "                                else:\n",
    "                                    gate[1][x]=Qubit(new_register, gate[1][x].index-1)\n",
    "\n",
    "                    new_list=[]\n",
    "                    for key in register_list:\n",
    "                        new_list.append(key)\n",
    "                    circ = QuantumCircuit(*new_list,*new_c_list)\n",
    "                    for gate in gate_list:\n",
    "                        circ.append(gate[0],gate[1],gate[2])\n",
    "        return circ\n",
    "    \n",
    "\n",
    "    @staticmethod\n",
    "    def ccx_to_cx(ccx_counter,dag,controlled_index):\n",
    "        mini_dag = DAGCircuit()\n",
    "        p = QuantumRegister(3, \"p\")\n",
    "        mini_dag.add_qreg(p)\n",
    "        mini_dag.apply_operation_back(CXGate(), qargs=[p[1],p[2]])\n",
    "        # substitute the cx node with the above mini-dag\n",
    "        ccx_node = dag.op_nodes(op=CCXGate).pop(ccx_counter)\n",
    "\n",
    "        if controlled_index == 0: \n",
    "            dag.substitute_node_with_dag(node=ccx_node, input_dag=mini_dag, wires=[p[1], p[0], p[2]])\n",
    "        if controlled_index == 1:\n",
    "            dag.substitute_node_with_dag(node=ccx_node, input_dag=mini_dag, wires=[p[0], p[1], p[2]])\n",
    "        return dag\n",
    "    \n",
    "    @staticmethod\n",
    "    def ccx_to_x(ccx_counter,dag):\n",
    "        mini_dag = DAGCircuit()\n",
    "        p = QuantumRegister(3, \"p\")\n",
    "        mini_dag.add_qreg(p)\n",
    "        mini_dag.apply_operation_back(XGate(), qargs=[p[2]])\n",
    "        # substitute the cx node with the above mini-dag\n",
    "        ccx_node = dag.op_nodes(op=CCXGate).pop(ccx_counter)\n",
    "        dag.substitute_node_with_dag(node=ccx_node, input_dag=mini_dag, wires=[p[0], p[1], p[2]])\n",
    "        return dag\n",
    "\n",
    "    @staticmethod\n",
    "    def cx_to_x(cx_counter,dag):\n",
    "        mini_dag = DAGCircuit()\n",
    "        p = QuantumRegister(2, \"p\")\n",
    "        mini_dag.add_qreg(p)\n",
    "        mini_dag.apply_operation_back(XGate(), qargs=[p[0]])\n",
    "        # substitute the x node with the above mini-dag\n",
    "        cx_node = dag.op_nodes(op=CXGate).pop(cx_counter)\n",
    "        dag.substitute_node_with_dag(node=cx_node, input_dag=mini_dag, wires=[p[1], p[0]])\n",
    "        return dag\n",
    "\n",
    "    @staticmethod\n",
    "    def cry_to_ry(cry_counter,dag,theta):\n",
    "        mini_dag = DAGCircuit()\n",
    "        p = QuantumRegister(2, \"p\")\n",
    "        mini_dag.add_qreg(p)\n",
    "        mini_dag.apply_operation_back(RYGate(theta), qargs=[p[0]])\n",
    "        # substitute the ry node with the above mini-dag\n",
    "        cry_node = dag.op_nodes(op=CRYGate).pop(cry_counter)\n",
    "        dag.substitute_node_with_dag(node=cry_node, input_dag=mini_dag, wires=[p[1], p[0]])\n",
    "        return dag\n",
    "\n",
    "    @staticmethod\n",
    "    def u3_to_ry(dag,theta):\n",
    "        mini_dag = DAGCircuit()\n",
    "        p = QuantumRegister(1, \"p\")\n",
    "        mini_dag.add_qreg(p)\n",
    "        mini_dag.apply_operation_back(RYGate(theta), qargs=[p[0]])\n",
    "        # substitute the ry node with the above mini-dag\n",
    "        u3_node = dag.op_nodes(op=U3Gate).pop(0)\n",
    "        dag.substitute_node_with_dag(node=u3_node, input_dag=mini_dag, wires=[p[0]])\n",
    "        return dag\n",
    "    \n",
    "    @staticmethod\n",
    "    def cu3_to_cry(dag,theta):\n",
    "        mini_dag = DAGCircuit()\n",
    "        p = QuantumRegister(2, \"p\")\n",
    "        mini_dag.add_qreg(p)\n",
    "        mini_dag.apply_operation_back(CRYGate(theta), qargs=[p[0],p[1]])\n",
    "        # substitute the ry node with the above mini-dag\n",
    "        cu3_node = dag.op_nodes(op=CU3Gate).pop(0)\n",
    "        dag.substitute_node_with_dag(node=cu3_node, input_dag=mini_dag, wires=[p[0],p[1]])\n",
    "        return dag\n",
    "\n",
    "    @staticmethod\n",
    "    def get_unique_list(seq):\n",
    "        seen = []\n",
    "        return [x for x in seq if x not in seen and not seen.append(x)]"
   ]
  },
  {
   "cell_type": "markdown",
   "metadata": {},
   "source": [
    "# PS 1step\n",
    "\n",
    "## No_slimming"
   ]
  },
  {
   "cell_type": "code",
   "execution_count": 2,
   "metadata": {},
   "outputs": [],
   "source": [
    "from sample_algorithm.onestepSim_LBNL import runQuantum\n",
    "circuit_LBNL1 = runQuantum(gLR=1,dophisplit=1)"
   ]
  },
  {
   "cell_type": "code",
   "execution_count": 3,
   "metadata": {},
   "outputs": [
    {
     "name": "stdout",
     "output_type": "stream",
     "text": [
      "46 , 66\n",
      "Gate counts: OrderedDict([('ccx', 28), ('x', 19), ('cu3', 7), ('measure', 6), ('cx', 5), ('barrier', 1)])\n"
     ]
    }
   ],
   "source": [
    "print(circuit_LBNL1.depth(), ',', circuit_LBNL1.__len__())\n",
    "print('Gate counts:', circuit_LBNL1.count_ops())"
   ]
  },
  {
   "cell_type": "code",
   "execution_count": 4,
   "metadata": {},
   "outputs": [
    {
     "name": "stdout",
     "output_type": "stream",
     "text": [
      "309 , 493\n",
      "Gate counts: OrderedDict([('cx', 187), ('t', 112), ('tdg', 84), ('h', 56), ('u3', 33), ('u1', 14), ('measure', 6), ('barrier', 1)])\n"
     ]
    }
   ],
   "source": [
    "circuit_LBNL1_basis = circuit_LBNL1.decompose()\n",
    "print(circuit_LBNL1_basis.depth(), ',', circuit_LBNL1_basis.__len__())\n",
    "print('Gate counts:', circuit_LBNL1_basis.count_ops())"
   ]
  },
  {
   "cell_type": "markdown",
   "metadata": {},
   "source": [
    "## Removing adjacent gates pairs"
   ]
  },
  {
   "cell_type": "code",
   "execution_count": 5,
   "metadata": {},
   "outputs": [],
   "source": [
    "from qiskit.converters import circuit_to_dag, dag_to_circuit"
   ]
  },
  {
   "cell_type": "code",
   "execution_count": 6,
   "metadata": {},
   "outputs": [],
   "source": [
    "from transpiler.optimization import slim\n",
    "example1 = slim.circuit_optimization( circuit=circuit_LBNL1, slim_level=1, work_register = 'w', cut='high')"
   ]
  },
  {
   "cell_type": "code",
   "execution_count": 7,
   "metadata": {},
   "outputs": [],
   "source": [
    "circuit_LBNL1 = runQuantum(gLR=1,dophisplit=1)\n",
    "dag1=circuit_to_dag(circuit_LBNL1)\n",
    "noU3_dag=example1.u3_transfer_ry(dag1)"
   ]
  },
  {
   "cell_type": "code",
   "execution_count": 8,
   "metadata": {},
   "outputs": [],
   "source": [
    "delete_dag1 = example1.delete(noU3_dag)\n",
    "slimmed_delete1 = dag_to_circuit(delete_dag1)"
   ]
  },
  {
   "cell_type": "code",
   "execution_count": 9,
   "metadata": {},
   "outputs": [
    {
     "name": "stdout",
     "output_type": "stream",
     "text": [
      "44 , 56\n",
      "Gate counts: OrderedDict([('ccx', 28), ('x', 9), ('cry', 7), ('measure', 6), ('cx', 5), ('barrier', 1)])\n"
     ]
    }
   ],
   "source": [
    "print(slimmed_delete1.depth(), ',', slimmed_delete1.__len__())\n",
    "print('Gate counts:', slimmed_delete1.count_ops())"
   ]
  },
  {
   "cell_type": "code",
   "execution_count": 10,
   "metadata": {},
   "outputs": [
    {
     "name": "stdout",
     "output_type": "stream",
     "text": [
      "300 , 469\n",
      "Gate counts: OrderedDict([('cx', 187), ('t', 112), ('tdg', 84), ('h', 56), ('u3', 23), ('measure', 6), ('barrier', 1)])\n"
     ]
    }
   ],
   "source": [
    "slimmed_delete1_basis = slimmed_delete1.decompose()\n",
    "print(slimmed_delete1_basis.depth(), ',', slimmed_delete1_basis.__len__())\n",
    "print('Gate counts:', slimmed_delete1_basis.count_ops())"
   ]
  },
  {
   "cell_type": "markdown",
   "metadata": {},
   "source": [
    "## Removing qubit controls (only)"
   ]
  },
  {
   "cell_type": "code",
   "execution_count": 11,
   "metadata": {},
   "outputs": [],
   "source": [
    "basis_dag1 = example1.basis(delete_dag1)\n",
    "slimmed_ctrl1 = dag_to_circuit(basis_dag1)"
   ]
  },
  {
   "cell_type": "code",
   "execution_count": 12,
   "metadata": {},
   "outputs": [
    {
     "name": "stdout",
     "output_type": "stream",
     "text": [
      "43 , 55\n",
      "Gate counts: OrderedDict([('cx', 29), ('x', 9), ('measure', 6), ('cry', 4), ('ccx', 4), ('ry', 2), ('barrier', 1)])\n"
     ]
    }
   ],
   "source": [
    "print(slimmed_ctrl1.depth(), ',', slimmed_ctrl1.__len__())\n",
    "print('Gate counts:', slimmed_ctrl1.count_ops())"
   ]
  },
  {
   "cell_type": "code",
   "execution_count": 13,
   "metadata": {},
   "outputs": [
    {
     "name": "stdout",
     "output_type": "stream",
     "text": [
      "83 , 123\n",
      "Gate counts: OrderedDict([('cx', 61), ('u3', 17), ('t', 16), ('tdg', 12), ('h', 8), ('measure', 6), ('r', 2), ('barrier', 1)])\n"
     ]
    }
   ],
   "source": [
    "slimmed_ctrl1_basis = slimmed_ctrl1.decompose()\n",
    "print(slimmed_ctrl1_basis.depth(), ',', slimmed_ctrl1_basis.__len__())\n",
    "print('Gate counts:', slimmed_ctrl1_basis.count_ops())"
   ]
  },
  {
   "cell_type": "markdown",
   "metadata": {},
   "source": [
    "## Removing adjacent gates pairs"
   ]
  },
  {
   "cell_type": "code",
   "execution_count": 14,
   "metadata": {},
   "outputs": [],
   "source": [
    "delete_dag2 = example1.delete(basis_dag1)\n",
    "slimmed_delete2 = dag_to_circuit(delete_dag2)"
   ]
  },
  {
   "cell_type": "code",
   "execution_count": 15,
   "metadata": {},
   "outputs": [
    {
     "name": "stdout",
     "output_type": "stream",
     "text": [
      "43 , 53\n",
      "Gate counts: OrderedDict([('cx', 29), ('x', 7), ('measure', 6), ('cry', 4), ('ccx', 4), ('ry', 2), ('barrier', 1)])\n"
     ]
    }
   ],
   "source": [
    "print(slimmed_delete2.depth(), ',', slimmed_delete2.__len__())\n",
    "print('Gate counts:', slimmed_delete2.count_ops())"
   ]
  },
  {
   "cell_type": "code",
   "execution_count": 16,
   "metadata": {},
   "outputs": [
    {
     "name": "stdout",
     "output_type": "stream",
     "text": [
      "83 , 121\n",
      "Gate counts: OrderedDict([('cx', 61), ('t', 16), ('u3', 15), ('tdg', 12), ('h', 8), ('measure', 6), ('r', 2), ('barrier', 1)])\n"
     ]
    }
   ],
   "source": [
    "slimmed_delete2_basis = slimmed_delete2.decompose()\n",
    "print(slimmed_delete2_basis.depth(), ',', slimmed_delete2_basis.__len__())\n",
    "print('Gate counts:', slimmed_delete2_basis.count_ops())"
   ]
  },
  {
   "cell_type": "markdown",
   "metadata": {},
   "source": [
    "## Wall time"
   ]
  },
  {
   "cell_type": "code",
   "execution_count": 18,
   "metadata": {},
   "outputs": [
    {
     "name": "stdout",
     "output_type": "stream",
     "text": [
      "delete1 time: 0.5065131187438965\n",
      "basis time: 0.018024921417236328\n",
      "delete2 time: 0.11281800270080566\n",
      "delete qubit time: 0.0022940635681152344\n",
      "all time: 0.6440472602844238\n"
     ]
    }
   ],
   "source": [
    "circuit_LBNL1 = runQuantum(gLR=1,dophisplit=1)\n",
    "example1 = circuit_optimization( circuit=circuit_LBNL1, slim_level=1, work_register = 'w', cut='high')\n",
    "circuit_LBNL1_op = example1.slim()"
   ]
  },
  {
   "cell_type": "markdown",
   "metadata": {},
   "source": [
    "## Conclusion\n",
    "※not included 'measure' and 'barrier'\n",
    "\n",
    "Original : 486\n",
    "<br>\n",
    "↓ -24 (removed adjacent gates pairs)\n",
    "<br>\n",
    "↓ -260 (removed unnecessary qubit controls)\n",
    "<br>\n",
    "↓ -2 (removed adjacent gates pairs)\n",
    "<br>\n",
    "Slimmed one : 114"
   ]
  },
  {
   "cell_type": "markdown",
   "metadata": {},
   "source": [
    "# PS 2steps\n",
    "\n",
    "## No_slimming"
   ]
  },
  {
   "cell_type": "code",
   "execution_count": 19,
   "metadata": {},
   "outputs": [],
   "source": [
    "from sample_algorithm.twostepSim_LBNL import runQuantum\n",
    "circuit_LBNL1 = runQuantum(gLR=1,dophisplit=1)"
   ]
  },
  {
   "cell_type": "code",
   "execution_count": 20,
   "metadata": {},
   "outputs": [
    {
     "name": "stdout",
     "output_type": "stream",
     "text": [
      "108 , 158\n",
      "Gate counts: OrderedDict([('ccx', 74), ('x', 45), ('cu3', 19), ('cx', 10), ('measure', 9), ('barrier', 1)])\n"
     ]
    }
   ],
   "source": [
    "print(circuit_LBNL1.depth(), ',', circuit_LBNL1.__len__())\n",
    "print('Gate counts:', circuit_LBNL1.count_ops())"
   ]
  },
  {
   "cell_type": "code",
   "execution_count": 21,
   "metadata": {},
   "outputs": [
    {
     "name": "stdout",
     "output_type": "stream",
     "text": [
      "770 , 1289\n",
      "Gate counts: OrderedDict([('cx', 492), ('t', 296), ('tdg', 222), ('h', 148), ('u3', 83), ('u1', 38), ('measure', 9), ('barrier', 1)])\n"
     ]
    }
   ],
   "source": [
    "circuit_LBNL1_basis = circuit_LBNL1.decompose()\n",
    "print(circuit_LBNL1_basis.depth(), ',', circuit_LBNL1_basis.__len__())\n",
    "print('Gate counts:', circuit_LBNL1_basis.count_ops())"
   ]
  },
  {
   "cell_type": "markdown",
   "metadata": {},
   "source": [
    "## Removing adjacent gates pairs"
   ]
  },
  {
   "cell_type": "code",
   "execution_count": 22,
   "metadata": {},
   "outputs": [],
   "source": [
    "from transpiler.optimization import slim\n",
    "example1 = slim.circuit_optimization( circuit=circuit_LBNL1, slim_level=1, work_register = 'w', cut='high')"
   ]
  },
  {
   "cell_type": "code",
   "execution_count": 23,
   "metadata": {},
   "outputs": [],
   "source": [
    "circuit_LBNL1 = runQuantum(gLR=1,dophisplit=1)\n",
    "dag1=circuit_to_dag(circuit_LBNL1)\n",
    "noU3_dag=example1.u3_transfer_ry(dag1)"
   ]
  },
  {
   "cell_type": "code",
   "execution_count": 24,
   "metadata": {},
   "outputs": [],
   "source": [
    "delete_dag1 = example1.delete(noU3_dag)\n",
    "slimmed_delete1 = dag_to_circuit(delete_dag1)"
   ]
  },
  {
   "cell_type": "code",
   "execution_count": 25,
   "metadata": {},
   "outputs": [
    {
     "name": "stdout",
     "output_type": "stream",
     "text": [
      "98 , 138\n",
      "Gate counts: OrderedDict([('ccx', 66), ('x', 33), ('cry', 19), ('cx', 10), ('measure', 9), ('barrier', 1)])\n"
     ]
    }
   ],
   "source": [
    "print(slimmed_delete1.depth(), ',', slimmed_delete1.__len__())\n",
    "print('Gate counts:', slimmed_delete1.count_ops())"
   ]
  },
  {
   "cell_type": "code",
   "execution_count": 26,
   "metadata": {},
   "outputs": [
    {
     "name": "stdout",
     "output_type": "stream",
     "text": [
      "670 , 1119\n",
      "Gate counts: OrderedDict([('cx', 444), ('t', 264), ('tdg', 198), ('h', 132), ('u3', 71), ('measure', 9), ('barrier', 1)])\n"
     ]
    }
   ],
   "source": [
    "slimmed_delete1_basis = slimmed_delete1.decompose()\n",
    "print(slimmed_delete1_basis.depth(), ',', slimmed_delete1_basis.__len__())\n",
    "print('Gate counts:', slimmed_delete1_basis.count_ops())"
   ]
  },
  {
   "cell_type": "markdown",
   "metadata": {},
   "source": [
    "## Removing qubit controls"
   ]
  },
  {
   "cell_type": "code",
   "execution_count": 27,
   "metadata": {},
   "outputs": [],
   "source": [
    "basis_dag1 = example1.basis(delete_dag1)\n",
    "slimmed_ctrl1 = dag_to_circuit(basis_dag1)"
   ]
  },
  {
   "cell_type": "code",
   "execution_count": 28,
   "metadata": {},
   "outputs": [
    {
     "name": "stdout",
     "output_type": "stream",
     "text": [
      "95 , 138\n",
      "Gate counts: OrderedDict([('cx', 46), ('x', 33), ('ccx', 30), ('cry', 17), ('measure', 9), ('ry', 2), ('barrier', 1)])\n"
     ]
    }
   ],
   "source": [
    "print(slimmed_ctrl1.depth(), ',', slimmed_ctrl1.__len__())\n",
    "print('Gate counts:', slimmed_ctrl1.count_ops())"
   ]
  },
  {
   "cell_type": "code",
   "execution_count": 29,
   "metadata": {},
   "outputs": [
    {
     "name": "stdout",
     "output_type": "stream",
     "text": [
      "379 , 609\n",
      "Gate counts: OrderedDict([('cx', 260), ('t', 120), ('tdg', 90), ('u3', 67), ('h', 60), ('measure', 9), ('r', 2), ('barrier', 1)])\n"
     ]
    }
   ],
   "source": [
    "slimmed_ctrl1_basis = slimmed_ctrl1.decompose()\n",
    "print(slimmed_ctrl1_basis.depth(), ',', slimmed_ctrl1_basis.__len__())\n",
    "print('Gate counts:', slimmed_ctrl1_basis.count_ops())"
   ]
  },
  {
   "cell_type": "markdown",
   "metadata": {},
   "source": [
    "## Removing adjacent gates pairs"
   ]
  },
  {
   "cell_type": "code",
   "execution_count": 30,
   "metadata": {},
   "outputs": [],
   "source": [
    "delete_dag2 = example1.delete(basis_dag1)\n",
    "slimmed_delete2 = dag_to_circuit(delete_dag2)"
   ]
  },
  {
   "cell_type": "code",
   "execution_count": 31,
   "metadata": {},
   "outputs": [
    {
     "name": "stdout",
     "output_type": "stream",
     "text": [
      "95 , 132\n",
      "Gate counts: OrderedDict([('cx', 46), ('ccx', 30), ('x', 27), ('cry', 17), ('measure', 9), ('ry', 2), ('barrier', 1)])\n"
     ]
    }
   ],
   "source": [
    "print(slimmed_delete2.depth(), ',', slimmed_delete2.__len__())\n",
    "print('Gate counts:', slimmed_delete2.count_ops())"
   ]
  },
  {
   "cell_type": "code",
   "execution_count": 32,
   "metadata": {},
   "outputs": [
    {
     "name": "stdout",
     "output_type": "stream",
     "text": [
      "379 , 603\n",
      "Gate counts: OrderedDict([('cx', 260), ('t', 120), ('tdg', 90), ('u3', 61), ('h', 60), ('measure', 9), ('r', 2), ('barrier', 1)])\n"
     ]
    }
   ],
   "source": [
    "slimmed_delete2_basis = slimmed_delete2.decompose()\n",
    "print(slimmed_delete2_basis.depth(), ',', slimmed_delete2_basis.__len__())\n",
    "print('Gate counts:', slimmed_delete2_basis.count_ops())"
   ]
  },
  {
   "cell_type": "markdown",
   "metadata": {},
   "source": [
    "## Wall time"
   ]
  },
  {
   "cell_type": "code",
   "execution_count": 34,
   "metadata": {},
   "outputs": [
    {
     "name": "stdout",
     "output_type": "stream",
     "text": [
      "delete1 time: 1.2319738864898682\n",
      "basis time: 0.15824317932128906\n",
      "delete2 time: 0.6924049854278564\n",
      "delete qubit time: 0.00737309455871582\n",
      "all time: 2.1072511672973633\n"
     ]
    }
   ],
   "source": [
    "circuit_LBNL1 = runQuantum(gLR=1,dophisplit=1)\n",
    "example1 = circuit_optimization( circuit=circuit_LBNL1, slim_level=1, work_register = 'w', cut='high')\n",
    "circuit_LBNL1_op = example1.slim()"
   ]
  },
  {
   "cell_type": "markdown",
   "metadata": {},
   "source": [
    "## Conclusion\n",
    "※not included 'measure' and 'barrier'\n",
    "\n",
    "Original : 1279\n",
    "<br>\n",
    "↓ -170 (removed adjacent gates pairs)\n",
    "<br>\n",
    "↓ -510 (removed unnecessary qubit controls)\n",
    "<br>\n",
    "↓ -6 (removed adjacent gates pairs)\n",
    "<br>\n",
    "Slimmed one : 593"
   ]
  },
  {
   "cell_type": "code",
   "execution_count": null,
   "metadata": {},
   "outputs": [],
   "source": []
  }
 ],
 "metadata": {
  "kernelspec": {
   "display_name": "Python 3",
   "language": "python",
   "name": "python3"
  },
  "language_info": {
   "codemirror_mode": {
    "name": "ipython",
    "version": 3
   },
   "file_extension": ".py",
   "mimetype": "text/x-python",
   "name": "python",
   "nbconvert_exporter": "python",
   "pygments_lexer": "ipython3",
   "version": "3.8.1"
  }
 },
 "nbformat": 4,
 "nbformat_minor": 4
}
