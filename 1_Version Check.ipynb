{
 "cells": [
  {
   "cell_type": "code",
   "execution_count": 1,
   "metadata": {},
   "outputs": [
    {
     "name": "stdout",
     "output_type": "stream",
     "text": [
      "\n",
      "     active environment : base\n",
      "    active env location : /opt/anaconda3\n",
      "            shell level : 1\n",
      "       user config file : /Users/bigbangfourth/.condarc\n",
      " populated config files : /Users/bigbangfourth/.condarc\n",
      "          conda version : 4.9.2\n",
      "    conda-build version : 3.20.5\n",
      "         python version : 3.8.1.final.0\n",
      "       virtual packages : __osx=10.16=0\n",
      "                          __unix=0=0\n",
      "                          __archspec=1=x86_64\n",
      "       base environment : /opt/anaconda3  (writable)\n",
      "           channel URLs : https://repo.anaconda.com/pkgs/main/osx-64\n",
      "                          https://repo.anaconda.com/pkgs/main/noarch\n",
      "                          https://repo.anaconda.com/pkgs/r/osx-64\n",
      "                          https://repo.anaconda.com/pkgs/r/noarch\n",
      "          package cache : /opt/anaconda3/pkgs\n",
      "                          /Users/bigbangfourth/.conda/pkgs\n",
      "       envs directories : /opt/anaconda3/envs\n",
      "                          /Users/bigbangfourth/.conda/envs\n",
      "               platform : osx-64\n",
      "             user-agent : conda/4.9.2 requests/2.22.0 CPython/3.8.1 Darwin/20.6.0 OSX/10.16\n",
      "                UID:GID : 501:20\n",
      "             netrc file : None\n",
      "           offline mode : False\n",
      "\n",
      "\n",
      "Note: you may need to restart the kernel to use updated packages.\n"
     ]
    }
   ],
   "source": [
    "conda info"
   ]
  },
  {
   "cell_type": "markdown",
   "metadata": {},
   "source": [
    "https://github.com/Qiskit/qiskit-ignis/issues/419"
   ]
  },
  {
   "cell_type": "code",
   "execution_count": 2,
   "metadata": {},
   "outputs": [
    {
     "name": "stdout",
     "output_type": "stream",
     "text": [
      "Name: qiskit\n",
      "Version: 0.32.1\n",
      "Summary: Software for developing quantum computing programs\n",
      "Home-page: https://github.com/Qiskit/qiskit\n",
      "Author: Qiskit Development Team\n",
      "Author-email: hello@qiskit.org\n",
      "License: Apache 2.0\n",
      "Location: /opt/anaconda3/lib/python3.8/site-packages\n",
      "Requires: qiskit-ignis, qiskit-terra, qiskit-aer, qiskit-ibmq-provider, qiskit-aqua\n",
      "Required-by: pytket-qiskit\n",
      "Note: you may need to restart the kernel to use updated packages.\n"
     ]
    }
   ],
   "source": [
    "pip show qiskit"
   ]
  },
  {
   "cell_type": "code",
   "execution_count": 3,
   "metadata": {},
   "outputs": [
    {
     "name": "stderr",
     "output_type": "stream",
     "text": [
      "/opt/anaconda3/lib/python3.8/site-packages/qiskit/aqua/__init__.py:86: DeprecationWarning: The package qiskit.aqua is deprecated. It was moved/refactored to qiskit-terra For more information see <https://github.com/Qiskit/qiskit-aqua/blob/main/README.md#migration-guide>\n",
      "  warn_package('aqua', 'qiskit-terra')\n"
     ]
    },
    {
     "data": {
      "text/plain": [
       "{'qiskit-terra': '0.18.3', 'qiskit-aer': '0.9.1', 'qiskit-ignis': '0.6.0', 'qiskit-ibmq-provider': '0.18.1', 'qiskit-aqua': '0.9.5', 'qiskit': '0.32.1', 'qiskit-nature': None, 'qiskit-finance': None, 'qiskit-optimization': None, 'qiskit-machine-learning': None}"
      ]
     },
     "execution_count": 3,
     "metadata": {},
     "output_type": "execute_result"
    }
   ],
   "source": [
    "import qiskit\n",
    "qiskit.__qiskit_version__"
   ]
  },
  {
   "cell_type": "code",
   "execution_count": 4,
   "metadata": {},
   "outputs": [
    {
     "name": "stdout",
     "output_type": "stream",
     "text": [
      "Name: pytket\n",
      "Version: 0.17.0\n",
      "Summary: Python module for interfacing with the CQC tket library of quantum software\n",
      "Home-page: https://cqcl.github.io/pytket\n",
      "Author: Seyon Sivarajah\n",
      "Author-email: seyon.sivarajah@cambridgequantum.com\n",
      "License: Apache 2\n",
      "Location: /opt/anaconda3/lib/python3.8/site-packages\n",
      "Requires: types-Jinja2, sympy, scipy, jinja2, lark-parser, numpy, typing-extensions, types-pkg-resources, networkx, graphviz\n",
      "Required-by: pytket-qiskit\n",
      "Note: you may need to restart the kernel to use updated packages.\n"
     ]
    }
   ],
   "source": [
    "pip show pytket"
   ]
  },
  {
   "cell_type": "code",
   "execution_count": 5,
   "metadata": {},
   "outputs": [
    {
     "name": "stdout",
     "output_type": "stream",
     "text": [
      "Name: pytket-qiskit\n",
      "Version: 0.20.0\n",
      "Summary: Extension for pytket, providing translation to and from the Qiskit framework\n",
      "Home-page: https://github.com/CQCL/pytket-extensions\n",
      "Author: Will Simmons\n",
      "Author-email: will.simmons@cambridgequantum.com\n",
      "License: Apache 2\n",
      "Location: /opt/anaconda3/lib/python3.8/site-packages\n",
      "Requires: pytket, qiskit\n",
      "Required-by: \n",
      "Note: you may need to restart the kernel to use updated packages.\n"
     ]
    }
   ],
   "source": [
    "pip show pytket-qiskit"
   ]
  },
  {
   "cell_type": "code",
   "execution_count": 6,
   "metadata": {},
   "outputs": [
    {
     "name": "stdout",
     "output_type": "stream",
     "text": [
      "3.8.1\n"
     ]
    }
   ],
   "source": [
    "from platform import python_version\n",
    "print(python_version())"
   ]
  },
  {
   "cell_type": "code",
   "execution_count": null,
   "metadata": {},
   "outputs": [],
   "source": []
  }
 ],
 "metadata": {
  "kernelspec": {
   "display_name": "Python 3",
   "language": "python",
   "name": "python3"
  },
  "language_info": {
   "codemirror_mode": {
    "name": "ipython",
    "version": 3
   },
   "file_extension": ".py",
   "mimetype": "text/x-python",
   "name": "python",
   "nbconvert_exporter": "python",
   "pygments_lexer": "ipython3",
   "version": "3.8.1"
  }
 },
 "nbformat": 4,
 "nbformat_minor": 4
}
